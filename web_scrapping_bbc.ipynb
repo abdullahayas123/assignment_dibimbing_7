{
 "cells": [
  {
   "cell_type": "code",
   "execution_count": 1,
   "id": "712e5a97",
   "metadata": {},
   "outputs": [],
   "source": [
    "import pandas as pd\n",
    "import requests\n",
    "import tqdm\n",
    "import time\n",
    "import bs4\n",
    "import json\n",
    "from datetime import datetime"
   ]
  },
  {
   "cell_type": "code",
   "execution_count": 2,
   "id": "b17c8ef8",
   "metadata": {},
   "outputs": [],
   "source": [
    "# ambil web bbc\n",
    "news_request = requests.get(\"https://www.bbc.com/news\")\n",
    "news_request\n",
    "\n",
    "# ubah content menjadi objek bs4\n",
    "news_bs4 = bs4.BeautifulSoup(news_request.content)\n",
    "# print(news_bs4.prettify())\n",
    "\n",
    "# card article \n",
    "news_bs4_cards_1 = news_bs4.find(name='script', attrs={'id': '__NEXT_DATA__'})\n",
    "path_news = json.loads(news_bs4_cards_1.text)['props']['pageProps']['page']['@\"news\",']['sections']"
   ]
  },
  {
   "cell_type": "code",
   "execution_count": 3,
   "id": "9b82d0ee",
   "metadata": {},
   "outputs": [
    {
     "name": "stderr",
     "output_type": "stream",
     "text": [
      "100%|██████████| 10/10 [00:04<00:00,  2.03it/s]\n"
     ]
    },
    {
     "data": {
      "text/plain": [
       "49"
      ]
     },
     "execution_count": 3,
     "metadata": {},
     "output_type": "execute_result"
    }
   ],
   "source": [
    "list_news = []\n",
    "for news in tqdm.tqdm(path_news) : \n",
    "    if 'content' in news.keys() : \n",
    "        for i in news['content'] : \n",
    "            content = {\n",
    "                'title'                : i['title']\n",
    "                , 'publication_date'   : datetime.fromtimestamp(i['metadata']['firstUpdated']/1000)\n",
    "                , 'category'           : i['metadata']['contentType']\n",
    "                , 'subcategory'        : i['metadata']['subtype'] \n",
    "                , 'url'                : \"https://bbc.com\"+i['href'] if 'bbc.com' not in i['href'] else i['href']\n",
    "                , 'summary'            : i['description']\n",
    "            }\n",
    "            list_news.append(content)\n",
    "\n",
    "            time.sleep(0.1)\n",
    "\n",
    "len(list_news)"
   ]
  },
  {
   "cell_type": "code",
   "execution_count": 4,
   "id": "31834b2a",
   "metadata": {},
   "outputs": [
    {
     "data": {
      "text/html": [
       "<div>\n",
       "<style scoped>\n",
       "    .dataframe tbody tr th:only-of-type {\n",
       "        vertical-align: middle;\n",
       "    }\n",
       "\n",
       "    .dataframe tbody tr th {\n",
       "        vertical-align: top;\n",
       "    }\n",
       "\n",
       "    .dataframe thead th {\n",
       "        text-align: right;\n",
       "    }\n",
       "</style>\n",
       "<table border=\"1\" class=\"dataframe\">\n",
       "  <thead>\n",
       "    <tr style=\"text-align: right;\">\n",
       "      <th></th>\n",
       "      <th>title</th>\n",
       "      <th>publication_date</th>\n",
       "      <th>category</th>\n",
       "      <th>subcategory</th>\n",
       "      <th>url</th>\n",
       "      <th>summary</th>\n",
       "    </tr>\n",
       "  </thead>\n",
       "  <tbody>\n",
       "    <tr>\n",
       "      <th>0</th>\n",
       "      <td>Europe heatwave puts Paris on red alert as par...</td>\n",
       "      <td>2025-06-30 12:41:00.000</td>\n",
       "      <td>live</td>\n",
       "      <td>news</td>\n",
       "      <td>https://www.bbc.com/news/live/cd0v29vydx4t</td>\n",
       "      <td>Two people have died in Italy and tens of thou...</td>\n",
       "    </tr>\n",
       "    <tr>\n",
       "      <th>1</th>\n",
       "      <td>US Senate holds marathon overnight vote on Tru...</td>\n",
       "      <td>2025-06-30 21:09:37.583</td>\n",
       "      <td>article</td>\n",
       "      <td>news</td>\n",
       "      <td>https://bbc.com/news/articles/czjkkdyplymo</td>\n",
       "      <td>Senators are debating a nearly 1,000-page bill...</td>\n",
       "    </tr>\n",
       "    <tr>\n",
       "      <th>2</th>\n",
       "      <td>Thai prime minister suspended over leaked phon...</td>\n",
       "      <td>2025-07-01 13:44:07.968</td>\n",
       "      <td>article</td>\n",
       "      <td>news</td>\n",
       "      <td>https://bbc.com/news/articles/c9vrrj72xy7o</td>\n",
       "      <td>Paetongtarn Shinawatra has been suspended as t...</td>\n",
       "    </tr>\n",
       "    <tr>\n",
       "      <th>3</th>\n",
       "      <td>US-Israeli backed Gaza aid group must be shut ...</td>\n",
       "      <td>2025-07-01 12:02:06.652</td>\n",
       "      <td>article</td>\n",
       "      <td>news</td>\n",
       "      <td>https://bbc.com/news/articles/cn5kk1w00xyo</td>\n",
       "      <td>The call from some of the world's top aid orga...</td>\n",
       "    </tr>\n",
       "    <tr>\n",
       "      <th>4</th>\n",
       "      <td>Is the India-US trade deal in trouble?</td>\n",
       "      <td>2025-07-01 13:40:48.800</td>\n",
       "      <td>article</td>\n",
       "      <td>news</td>\n",
       "      <td>https://bbc.com/news/articles/c625504qp3go</td>\n",
       "      <td>With days to go before 9 July, when the tariff...</td>\n",
       "    </tr>\n",
       "  </tbody>\n",
       "</table>\n",
       "</div>"
      ],
      "text/plain": [
       "                                               title        publication_date  \\\n",
       "0  Europe heatwave puts Paris on red alert as par... 2025-06-30 12:41:00.000   \n",
       "1  US Senate holds marathon overnight vote on Tru... 2025-06-30 21:09:37.583   \n",
       "2  Thai prime minister suspended over leaked phon... 2025-07-01 13:44:07.968   \n",
       "3  US-Israeli backed Gaza aid group must be shut ... 2025-07-01 12:02:06.652   \n",
       "4             Is the India-US trade deal in trouble? 2025-07-01 13:40:48.800   \n",
       "\n",
       "  category subcategory                                         url  \\\n",
       "0     live        news  https://www.bbc.com/news/live/cd0v29vydx4t   \n",
       "1  article        news  https://bbc.com/news/articles/czjkkdyplymo   \n",
       "2  article        news  https://bbc.com/news/articles/c9vrrj72xy7o   \n",
       "3  article        news  https://bbc.com/news/articles/cn5kk1w00xyo   \n",
       "4  article        news  https://bbc.com/news/articles/c625504qp3go   \n",
       "\n",
       "                                             summary  \n",
       "0  Two people have died in Italy and tens of thou...  \n",
       "1  Senators are debating a nearly 1,000-page bill...  \n",
       "2  Paetongtarn Shinawatra has been suspended as t...  \n",
       "3  The call from some of the world's top aid orga...  \n",
       "4  With days to go before 9 July, when the tariff...  "
      ]
     },
     "execution_count": 4,
     "metadata": {},
     "output_type": "execute_result"
    }
   ],
   "source": [
    "df_raw = pd.DataFrame(list_news)\n",
    "df_raw.head()"
   ]
  },
  {
   "cell_type": "code",
   "execution_count": 5,
   "id": "419e5829",
   "metadata": {},
   "outputs": [],
   "source": [
    "## drop duplicates\n",
    "\n",
    "df = df_raw.drop_duplicates(subset=['url'], keep='last')"
   ]
  },
  {
   "cell_type": "code",
   "execution_count": 6,
   "id": "73c9471b",
   "metadata": {},
   "outputs": [
    {
     "data": {
      "text/plain": [
       "title               0\n",
       "publication_date    0\n",
       "category            0\n",
       "subcategory         0\n",
       "url                 0\n",
       "summary             0\n",
       "dtype: int64"
      ]
     },
     "execution_count": 6,
     "metadata": {},
     "output_type": "execute_result"
    }
   ],
   "source": [
    "## check null values\n",
    "df.isnull().sum()"
   ]
  },
  {
   "cell_type": "code",
   "execution_count": 7,
   "id": "2b9370fb",
   "metadata": {},
   "outputs": [],
   "source": [
    "## save to csv\n",
    "df.to_csv('output_bbc_scrap.csv', encoding='utf-8', index=False)"
   ]
  },
  {
   "cell_type": "code",
   "execution_count": null,
   "id": "bc0637c9",
   "metadata": {},
   "outputs": [],
   "source": []
  }
 ],
 "metadata": {
  "kernelspec": {
   "display_name": "Python 3",
   "language": "python",
   "name": "python3"
  },
  "language_info": {
   "codemirror_mode": {
    "name": "ipython",
    "version": 3
   },
   "file_extension": ".py",
   "mimetype": "text/x-python",
   "name": "python",
   "nbconvert_exporter": "python",
   "pygments_lexer": "ipython3",
   "version": "3.13.5"
  }
 },
 "nbformat": 4,
 "nbformat_minor": 5
}
